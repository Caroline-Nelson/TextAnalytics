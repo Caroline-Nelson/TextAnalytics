{
 "cells": [
  {
   "cell_type": "markdown",
   "metadata": {},
   "source": [
    "# Text Analytics Group Assignment 1\n",
    "\n",
    "Nicole Erich, Vishwa Bhuta, Caroline Nelson, Erik Honore, Lindsay Tober"
   ]
  },
  {
   "cell_type": "markdown",
   "metadata": {},
   "source": [
    "---\n",
    "## Part A (basic text mining)\n",
    "---"
   ]
  },
  {
   "cell_type": "code",
   "execution_count": 21,
   "metadata": {
    "collapsed": false
   },
   "outputs": [
    {
     "name": "stdout",
     "output_type": "stream",
     "text": [
      "Populating the interactive namespace from numpy and matplotlib\n"
     ]
    }
   ],
   "source": [
    "# Import statements for Part A\n",
    "import warnings\n",
    "warnings.filterwarnings('ignore')\n",
    "from pandas import Series, DataFrame\n",
    "import pandas as pd\n",
    "%pylab inline\n",
    "\n",
    "import nltk\n",
    "from nltk.corpus import wordnet\n",
    "from nltk import word_tokenize\n",
    "from sklearn.feature_extraction.text import CountVectorizer\n",
    "import scipy.stats as ss\n",
    "import matplotlib\n",
    "\n",
    "from nltk.stem import WordNetLemmatizer\n",
    "import re\n",
    "#nltk.download('wordnet')\n",
    "\n",
    "# Import statements for Part B\n",
    "from sklearn.cross_validation import train_test_split\n",
    "from sklearn.naive_bayes import MultinomialNB\n",
    "from sklearn.feature_extraction.text import TfidfVectorizer\n",
    "from sklearn import metrics\n",
    "from sklearn.metrics import classification_report\n",
    "\n",
    "import os\n",
    "import random\n",
    "from operator import itemgetter\n",
    "import csv\n",
    "\n"
   ]
  },
  {
   "cell_type": "markdown",
   "metadata": {},
   "source": [
    "### A1. What are the top 5 parts of speech in this corpus of job descriptions? How frequently do they appear?"
   ]
  },
  {
   "cell_type": "code",
   "execution_count": 6,
   "metadata": {
    "collapsed": false
   },
   "outputs": [
    {
     "name": "stdout",
     "output_type": "stream",
     "text": [
      "['Id' 'Title' 'FullDescription' 'LocationRaw' 'LocationNormalized'\n",
      " 'ContractType' 'ContractTime' 'Company' 'Category' 'SalaryRaw'\n",
      " 'SalaryNormalized' 'SourceName']\n"
     ]
    }
   ],
   "source": [
    "# Read the file and take a subset\n",
    "data=pd.read_csv('Train_rev1.csv')\n",
    "job_descriptions=data['FullDescription'][:25000]\n",
    "print data.columns.values"
   ]
  },
  {
   "cell_type": "code",
   "execution_count": 3,
   "metadata": {
    "collapsed": false
   },
   "outputs": [
    {
     "data": {
      "text/plain": [
       "[('NN', 1048422),\n",
       " ('NNP', 797381),\n",
       " ('IN', 609559),\n",
       " ('JJ', 507262),\n",
       " ('DT', 461566)]"
      ]
     },
     "execution_count": 3,
     "metadata": {},
     "output_type": "execute_result"
    }
   ],
   "source": [
    "#nltk.download('averaged_perceptron_tagger')\n",
    "from nltk.tokenize import sent_tokenize, word_tokenize\n",
    "from collections import Counter\n",
    "\n",
    "# Tokenize series of job descriptions\n",
    "list_of_words=[]\n",
    "for i in range(len(job_descriptions)):\n",
    "    new_text=job_descriptions[i].decode('utf-8')\n",
    "    text=word_tokenize(new_text)\n",
    "    list_of_words+=text\n",
    "# Count parts of speech\n",
    "dictionary=Counter([j for i,j in nltk.pos_tag(list_of_words)])\n",
    "pos=sorted(dictionary.items(),key=lambda x:x[1],reverse=True)\n",
    "pos[:5]\n"
   ]
  },
  {
   "cell_type": "markdown",
   "metadata": {},
   "source": [
    "### A2. Does this corpus support Zipf’s law? Plot the most common 100 words in the corpus against the theoretical prediction of the law. For this question, do not remove stopwords. Also do not perform stemming or lemmatization."
   ]
  },
  {
   "cell_type": "code",
   "execution_count": 7,
   "metadata": {
    "collapsed": true
   },
   "outputs": [],
   "source": [
    "# Create list of job descriptions using subset established in A1\n",
    "job_descriptions_list = job_descriptions.values"
   ]
  },
  {
   "cell_type": "code",
   "execution_count": 8,
   "metadata": {
    "collapsed": true
   },
   "outputs": [],
   "source": [
    "# Use CountVectorizer to get word counts\n",
    "vect = CountVectorizer(min_df=0, stop_words=None)\n",
    "CountVect_X = vect.fit_transform(job_descriptions_list)"
   ]
  },
  {
   "cell_type": "code",
   "execution_count": 9,
   "metadata": {
    "collapsed": true
   },
   "outputs": [],
   "source": [
    "# Get list of terms and term frequencies from CountVectorizer\n",
    "matrix_terms = np.array(vect.get_feature_names())\n",
    "matrix_freq = np.asarray(CountVect_X.sum(axis=0)).ravel()\n",
    "final_matrix = np.array([matrix_terms,matrix_freq])"
   ]
  },
  {
   "cell_type": "code",
   "execution_count": 28,
   "metadata": {
    "collapsed": false
   },
   "outputs": [
    {
     "data": {
      "text/plain": [
       "[(u'00', 250),\n",
       " (u'000', 176),\n",
       " (u'0000', 1),\n",
       " (u'0001636', 1),\n",
       " (u'00023', 1),\n",
       " (u'0005313', 1),\n",
       " (u'0006', 1),\n",
       " (u'0007', 2),\n",
       " (u'000my', 5),\n",
       " (u'000strong', 1)]"
      ]
     },
     "execution_count": 28,
     "metadata": {},
     "output_type": "execute_result"
    }
   ],
   "source": [
    "# Prepare data in correct format for Zipf’s law analysis - [(word_1, freq_1),...,(word_n, freq_n)]\n",
    "word_count_pairings = zip(matrix_terms, matrix_freq)\n",
    "word_count_pairings[:10]"
   ]
  },
  {
   "cell_type": "code",
   "execution_count": 24,
   "metadata": {
    "collapsed": false
   },
   "outputs": [],
   "source": [
    "# Get WordNet data by word\n",
    "# Generates rankings of each word in the set, by frequencies and number of 'synsets' or sets meanings\n",
    "amb = []\n",
    "amb_w = []\n",
    "amb_c = []\n",
    "amb_p = []\n",
    "for (w, c) in word_count_pairings:\n",
    "    if len(wordnet.synsets(w)) > 0:\n",
    "        amb.append((w, c, len(wordnet.synsets(w))))\n",
    "        amb_w.append((w))\n",
    "        amb_c.append(c)\n",
    "        amb_p.append(len(wordnet.synsets(w)))\n",
    "\n",
    "amb_p_rank = ss.rankdata([p for (w, c, p) in amb])\n",
    "amb_c_rank = ss.rankdata([c for (w, c, p) in amb])\n",
    "amb_ranked = zip(amb_w, amb_c, amb_p, amb_p_rank, amb_c_rank)"
   ]
  },
  {
   "cell_type": "code",
   "execution_count": 25,
   "metadata": {
    "collapsed": false
   },
   "outputs": [
    {
     "data": {
      "text/plain": [
       "array([[ 1.        ,  0.96110207],\n",
       "       [ 0.96110207,  1.        ]])"
      ]
     },
     "execution_count": 25,
     "metadata": {},
     "output_type": "execute_result"
    }
   ],
   "source": [
    "# Quick test of Zipf's law - check correlation of rank to log of count\n",
    "numpy.corrcoef(amb_c_rank, [math.log(c) for (w, c, p) in amb])"
   ]
  },
  {
   "cell_type": "markdown",
   "metadata": {},
   "source": [
    "Based on the quick test above comparing correlation of rank to log of count, it appears as though this corpous supports Zipf's law.  This can be further validated by plotting the most common 100 words in the corpus of job descriptions against the theoretical prediction of the law."
   ]
  },
  {
   "cell_type": "code",
   "execution_count": 26,
   "metadata": {
    "collapsed": true
   },
   "outputs": [],
   "source": [
    "# Select top 100 most frequent words and create dictionary of word:count\n",
    "amb_ranked_sorted = sorted(amb_ranked, reverse=True, key=lambda (w, c, p, cr, pr): c)\n",
    "top100_amb_ranked_sorted = amb_ranked_sorted[:100]\n",
    "top100_dict = dict(zip([pair[0] for pair in top100_amb_ranked_sorted],[pair[1] for pair in top100_amb_ranked_sorted]))"
   ]
  },
  {
   "cell_type": "code",
   "execution_count": 56,
   "metadata": {
    "collapsed": false
   },
   "outputs": [
    {
     "data": {
      "image/png": "[encoded data removed]",
      "text/plain": [
       "<matplotlib.figure.Figure at 0x13c4a5610>"
      ]
     },
     "metadata": {},
     "output_type": "display_data"
    }
   ],
   "source": [
    "# Zipf plot 1 showing rank by frequency\n",
    "# Uses example from https://www.garysieling.com/blog/exploring-zipfs-law-with-python-nltk-scipy-and-matplotlib\n",
    "\n",
    "# Scale Rank\n",
    "top100_amb_c_rank = [pair[4] for pair in top100_amb_ranked_sorted]\n",
    "m = max(top100_amb_c_rank)\n",
    "rank = [m-r+1 for r in top100_amb_c_rank]\n",
    "\n",
    "# Zipf plot\n",
    "plt.plot([math.log(c) for c in rank], [math.log(c) for (w, c, p, cr, pr) in top100_amb_ranked_sorted], 'ro')\n",
    "title(\"Zipf Plot for Job Description Tokens\")\n",
    "xlabel(\"Rank\")\n",
    "ylabel(\"Frequency\")\n",
    "show()"
   ]
  },
  {
   "cell_type": "code",
   "execution_count": 27,
   "metadata": {
    "collapsed": false
   },
   "outputs": [
    {
     "data": {
      "image/png": "[encoded data removed]",
      "text/plain": [
       "<matplotlib.figure.Figure at 0x138e9aa50>"
      ]
     },
     "metadata": {},
     "output_type": "display_data"
    }
   ],
   "source": [
    "# Zipf plot 2 showing rank by frequency\n",
    "# Uses example from https://finnaarupnielsen.wordpress.com/2013/10/22/zipf-plot-for-word-counts-in-brown-corpus/\n",
    "\n",
    "# Token counts from the corpus\n",
    "tokens = top100_dict.keys()\n",
    "counts = array(top100_dict.values())\n",
    "\n",
    "# Zipf plot\n",
    "ranks = arange(1, len(counts)+1)\n",
    "indices = argsort(-counts)\n",
    "frequencies = counts[indices]\n",
    "loglog(ranks, frequencies, marker=\".\")\n",
    "title(\"Zipf Plot for Job Description Tokens\")\n",
    "xlabel(\"Frequency rank of token\")\n",
    "ylabel(\"Absolute frequency of token\")\n",
    "\n",
    "for n in list(logspace(-0.5, log10(len(counts)-1), 20).astype(int)):\n",
    "    dummy = text(ranks[n], frequencies[n], \" \" + tokens[indices[n]], \n",
    "                 verticalalignment=\"bottom\",\n",
    "                 horizontalalignment=\"left\")\n",
    "\n",
    "show()"
   ]
  },
  {
   "cell_type": "markdown",
   "metadata": {},
   "source": [
    "The plots above evaluating applicability of Zipf's law for this corpus are not perfectly straight, but they are straight enough to support Zipf's law.  As size of the corpus, and thus word counts, increase, the graph should become more linear."
   ]
  },
  {
   "cell_type": "markdown",
   "metadata": {},
   "source": [
    "### A3. If we remove stopwords and lemmatize the corpus, what are the 10 most common words? What is their frequency?"
   ]
  },
  {
   "cell_type": "code",
   "execution_count": 22,
   "metadata": {
    "collapsed": false
   },
   "outputs": [
    {
     "name": "stdout",
     "output_type": "stream",
     "text": [
      "[u'engineering', u'system', u'analyst', u'dorking', u'surrey', u'salary', u'k', u'client', u'located', u'dorking']\n"
     ]
    },
    {
     "data": {
      "text/plain": [
       "[(u'experience', 41068),\n",
       " (u'work', 29886),\n",
       " (u'role', 28534),\n",
       " (u'team', 27704),\n",
       " (u'client', 26580),\n",
       " (u'service', 23051),\n",
       " (u'working', 22795),\n",
       " (u'skill', 22662),\n",
       " (u'business', 22136),\n",
       " (u'manager', 21010)]"
      ]
     },
     "execution_count": 22,
     "metadata": {},
     "output_type": "execute_result"
    }
   ],
   "source": [
    "#nltk.download('wordnet')\n",
    "#nltk.download(\"stopwords\")\n",
    "wordnet_lemmatizer = WordNetLemmatizer()\n",
    "string_of_words=' '.join(list_of_words)\n",
    "\n",
    "#Split only words, excluding punctuation\n",
    "split=re.split('\\W+',string_of_words)\n",
    "\n",
    "#Make every word in the list of strings lower case\n",
    "words=[]\n",
    "for i in range(len(split)):\n",
    "    words.append(split[i].lower())\n",
    "\n",
    "#Lemmatize new list\n",
    "new_list=[]\n",
    "for i in range(0,len(words)):\n",
    "    new_list.append(wordnet_lemmatizer.lemmatize(words[i]))\n",
    "\n",
    "#Remove stop words\n",
    "from nltk.corpus import stopwords\n",
    "filtered_words = [word for word in new_list if word not in stopwords.words('english')]\n",
    "print filtered_words[:10]\n",
    "\n",
    "from nltk import FreqDist\n",
    "FreqDist(filtered_words).most_common(10)"
   ]
  },
  {
   "cell_type": "markdown",
   "metadata": {},
   "source": [
    "The above words are the 10 most common using the same subset as A1 (25,000)."
   ]
  },
  {
   "cell_type": "markdown",
   "metadata": {},
   "source": [
    "---\n",
    "## Part B (predict salary from job description)\n",
    "---"
   ]
  },
  {
   "cell_type": "markdown",
   "metadata": {},
   "source": [
    "### B1. Create a classification model with all words and the bag-of-words approach. How accurate is the model (show the confusion matrix)? "
   ]
  },
  {
   "cell_type": "code",
   "execution_count": 29,
   "metadata": {
    "collapsed": true
   },
   "outputs": [],
   "source": [
    "# Sample for faster processing\n",
    "random.seed(1)\n",
    "docs_sample = data.sample(n=100000,replace=False)"
   ]
  },
  {
   "cell_type": "code",
   "execution_count": 30,
   "metadata": {
    "collapsed": true
   },
   "outputs": [],
   "source": [
    "# \"Split\" train and test the first time to calculate the quartile target\n",
    "Y = docs_sample.ix[:,'SalaryNormalized']\n",
    "X = docs_sample.ix[:,'FullDescription']\n",
    "\n",
    "X_train, X_test, y_train, y_test = train_test_split(X, Y, test_size = .33, random_state = 16) # seed at 16 to ensure reproducibility"
   ]
  },
  {
   "cell_type": "code",
   "execution_count": 31,
   "metadata": {
    "collapsed": false
   },
   "outputs": [
    {
     "data": {
      "text/plain": [
       "42500.0"
      ]
     },
     "execution_count": 31,
     "metadata": {},
     "output_type": "execute_result"
    }
   ],
   "source": [
    "salary_target = np.percentile(y_train, q = 75.0)\n",
    "salary_target"
   ]
  },
  {
   "cell_type": "code",
   "execution_count": 32,
   "metadata": {
    "collapsed": true
   },
   "outputs": [],
   "source": [
    "docs_sample['SalaryLevel'] = np.where(docs_sample['SalaryNormalized'] >= salary_target, 'high','low')"
   ]
  },
  {
   "cell_type": "code",
   "execution_count": 33,
   "metadata": {
    "collapsed": true
   },
   "outputs": [],
   "source": [
    "Y = docs_sample.ix[:,'SalaryLevel']\n",
    "X = docs_sample.ix[:,'FullDescription']"
   ]
  },
  {
   "cell_type": "code",
   "execution_count": 34,
   "metadata": {
    "collapsed": true
   },
   "outputs": [],
   "source": [
    "X_train, X_test, y_train, y_test = train_test_split(X, Y, test_size = .33, random_state = 16) # seed at 16 to ensure reproducibility"
   ]
  },
  {
   "cell_type": "code",
   "execution_count": 35,
   "metadata": {
    "collapsed": true
   },
   "outputs": [],
   "source": [
    "X_train = np.array(X_train)\n",
    "y_train = np.array(y_train)\n",
    "X_test = np.array(X_test)\n",
    "y_test = np.array(y_test)"
   ]
  },
  {
   "cell_type": "code",
   "execution_count": 36,
   "metadata": {
    "collapsed": true
   },
   "outputs": [],
   "source": [
    "# Create vectorizer for TF-IDF matrix\n",
    "vectorizer = TfidfVectorizer(min_df=1, ngram_range=(1, 1))"
   ]
  },
  {
   "cell_type": "code",
   "execution_count": 37,
   "metadata": {
    "collapsed": true
   },
   "outputs": [],
   "source": [
    "# Transform X's for training and test sets\n",
    "X_train1 = vectorizer.fit_transform(X_train)\n",
    "X_test1 = vectorizer.transform(X_test)"
   ]
  },
  {
   "cell_type": "code",
   "execution_count": 38,
   "metadata": {
    "collapsed": true
   },
   "outputs": [],
   "source": [
    "# Fit Naive Bayes Multinomial\n",
    "nb_classifier1 = MultinomialNB().fit(X_train1, y_train)"
   ]
  },
  {
   "cell_type": "code",
   "execution_count": 39,
   "metadata": {
    "collapsed": true
   },
   "outputs": [],
   "source": [
    "# Use NB to get predictions\n",
    "y_nb_predicted1 = nb_classifier1.predict(X_test1)"
   ]
  },
  {
   "cell_type": "code",
   "execution_count": 40,
   "metadata": {
    "collapsed": false
   },
   "outputs": [
    {
     "name": "stdout",
     "output_type": "stream",
     "text": [
      "[[ 1366  7137]\n",
      " [  302 24195]]\n"
     ]
    }
   ],
   "source": [
    "# Print Confusion matrix\n",
    "confusion_matrix1 = metrics.confusion_matrix(y_test, y_nb_predicted1, labels=unique(Y))\n",
    "print confusion_matrix1"
   ]
  },
  {
   "cell_type": "code",
   "execution_count": 41,
   "metadata": {
    "collapsed": false
   },
   "outputs": [
    {
     "name": "stdout",
     "output_type": "stream",
     "text": [
      "0.774575757576\n"
     ]
    }
   ],
   "source": [
    "# Accuracy for NB all words\n",
    "print metrics.accuracy_score(y_test, y_nb_predicted1)"
   ]
  },
  {
   "cell_type": "markdown",
   "metadata": {},
   "source": [
    "### B2. Speculate before running the following analysis whether lemmatization would help improve the accuracy of classification. Now create a classification model after lemmatization. Did the classification accuracy increase relative to B1? Comment on your speculation versus the actual results you obtained."
   ]
  },
  {
   "cell_type": "markdown",
   "metadata": {
    "collapsed": true
   },
   "source": [
    "We expect that using lemmatization will improve the accuracy of the predictions, because it reduces the vocabulary by removing variations of the same word."
   ]
  },
  {
   "cell_type": "code",
   "execution_count": 42,
   "metadata": {
    "collapsed": true
   },
   "outputs": [],
   "source": [
    "# Building tokenizer and lemmatizer\n",
    "lemmatizer=WordNetLemmatizer()\n",
    "\n",
    "def tokenize(text):\n",
    "    tokens = nltk.word_tokenize(text)\n",
    "    lemmas = []\n",
    "    for item in tokens:\n",
    "        lemmas.append(lemmatizer.lemmatize(item))\n",
    "    return lemmas"
   ]
  },
  {
   "cell_type": "code",
   "execution_count": 43,
   "metadata": {
    "collapsed": true
   },
   "outputs": [],
   "source": [
    "# Tokenize training and test set X's\n",
    "tfidf = TfidfVectorizer(tokenizer=tokenize)\n",
    "X_train_tfidf = tfidf.fit_transform(X_train)\n",
    "X_test_tfidf = tfidf.transform(X_test)"
   ]
  },
  {
   "cell_type": "code",
   "execution_count": 44,
   "metadata": {
    "collapsed": true
   },
   "outputs": [],
   "source": [
    "# Fit naive bayes multinomial model with tokenized training set\n",
    "classifier = MultinomialNB().fit(X_train_tfidf, y_train)\n",
    "classifier_pred=classifier.predict(X_test_tfidf)"
   ]
  },
  {
   "cell_type": "code",
   "execution_count": 45,
   "metadata": {
    "collapsed": false
   },
   "outputs": [
    {
     "name": "stdout",
     "output_type": "stream",
     "text": [
      "             precision    recall  f1-score   support\n",
      "\n",
      "       high       0.88      0.06      0.12      8503\n",
      "        low       0.75      1.00      0.86     24497\n",
      "\n",
      "avg / total       0.79      0.76      0.67     33000\n",
      "\n"
     ]
    }
   ],
   "source": [
    "# Print model report\n",
    "print classification_report(y_test,classifier_pred)"
   ]
  },
  {
   "cell_type": "code",
   "execution_count": 46,
   "metadata": {
    "collapsed": false
   },
   "outputs": [
    {
     "name": "stdout",
     "output_type": "stream",
     "text": [
      "[[  542  7961]\n",
      " [   74 24423]]\n"
     ]
    }
   ],
   "source": [
    "# Print confusion matrix for NB with tokenization\n",
    "print metrics.confusion_matrix(y_test, classifier_pred)"
   ]
  },
  {
   "cell_type": "code",
   "execution_count": 47,
   "metadata": {
    "collapsed": false
   },
   "outputs": [
    {
     "name": "stdout",
     "output_type": "stream",
     "text": [
      "0.756515151515\n"
     ]
    }
   ],
   "source": [
    "# Get accuracy score for tokenization\n",
    "print metrics.accuracy_score(y_test, classifier_pred)"
   ]
  },
  {
   "cell_type": "markdown",
   "metadata": {},
   "source": [
    "B2 Result: The accuracy of lemmatization is actually approximately 2% lower than the original approach using all words.  This is contrary to our expectation.  Lemmatization reduces the variations of words that exist in the corpus.  We believe that some of these variations would have been necessary to differentiate between low and high salary jobs.  If lemmatization removed some of these critical variations, predictions may have become less accurate.  "
   ]
  },
  {
   "cell_type": "markdown",
   "metadata": {},
   "source": [
    "### B3. Now speculate whether stopwords removal from the original data would help increase the accuracy of the model. Take out the stopwords (but do not lemmatize), build a classification model and check the accuracy, and compare with that in B1 & B2.   Also show the top 10 words (excluding stopwords) that are most indicative of (i) high salary, and (ii) low salary. "
   ]
  },
  {
   "cell_type": "markdown",
   "metadata": {
    "collapsed": true
   },
   "source": [
    "Removing stop words from the model will likely increase the accuracy (as we will be removing words that are so common, that they no longer provide much meaning to the descriptions).\n",
    "\n",
    "However, because the model already calculates the TF-IDF scores, it will be taking care of stop words by down-weighting them.  We can expect the accuract to increase, but not by very much."
   ]
  },
  {
   "cell_type": "code",
   "execution_count": 48,
   "metadata": {
    "collapsed": true
   },
   "outputs": [],
   "source": [
    "# Create vectorizer that removes stop words\n",
    "vectorizer_stop = TfidfVectorizer(min_df=1, \n",
    " ngram_range=(1, 1), \n",
    " stop_words='english', \n",
    " strip_accents='unicode', \n",
    " norm='l2')"
   ]
  },
  {
   "cell_type": "code",
   "execution_count": 49,
   "metadata": {
    "collapsed": true
   },
   "outputs": [],
   "source": [
    "# Transform X's for training and test sets (same but with stop words)\n",
    "X_train2 = vectorizer_stop.fit_transform(X_train)\n",
    "X_test2 = vectorizer_stop.transform(X_test)"
   ]
  },
  {
   "cell_type": "code",
   "execution_count": 50,
   "metadata": {
    "collapsed": true
   },
   "outputs": [],
   "source": [
    "# Fit Naive Bayes Multinomial\n",
    "nb_classifier2 = MultinomialNB().fit(X_train2, y_train)"
   ]
  },
  {
   "cell_type": "code",
   "execution_count": 51,
   "metadata": {
    "collapsed": true
   },
   "outputs": [],
   "source": [
    "# Use NB to get predictions\n",
    "y_nb_predicted2 = nb_classifier2.predict(X_test2)"
   ]
  },
  {
   "cell_type": "code",
   "execution_count": 52,
   "metadata": {
    "collapsed": false
   },
   "outputs": [
    {
     "name": "stdout",
     "output_type": "stream",
     "text": [
      "[[ 1741  6762]\n",
      " [  370 24127]]\n"
     ]
    }
   ],
   "source": [
    "# Print Confusion matrix\n",
    "confusion_matrix2 = metrics.confusion_matrix(y_test, y_nb_predicted2, labels=unique(Y))\n",
    "print confusion_matrix2"
   ]
  },
  {
   "cell_type": "code",
   "execution_count": 53,
   "metadata": {
    "collapsed": false
   },
   "outputs": [
    {
     "name": "stdout",
     "output_type": "stream",
     "text": [
      "0.783878787879\n"
     ]
    }
   ],
   "source": [
    "# Accuracy for NB no stop words\n",
    "score2 = metrics.accuracy_score(y_test, y_nb_predicted2)\n",
    "print score2"
   ]
  },
  {
   "cell_type": "markdown",
   "metadata": {},
   "source": [
    "As expected, removing the stop words did increase the accuracy of the \"all words\" model, but not by very  much. "
   ]
  },
  {
   "cell_type": "code",
   "execution_count": 54,
   "metadata": {
    "collapsed": true
   },
   "outputs": [],
   "source": [
    "N = 10\n",
    "vocabulary = np.array([t for t, i in sorted(vectorizer_stop.vocabulary_.iteritems(), key=itemgetter(1))])"
   ]
  },
  {
   "cell_type": "code",
   "execution_count": 55,
   "metadata": {
    "collapsed": false
   },
   "outputs": [
    {
     "name": "stdout",
     "output_type": "stream",
     "text": [
      "low top 10:\n",
      "client, design, team, development, role, manager, management, project, experience, business\n",
      "high top 10:\n",
      "client, manager, working, skills, business, team, role, work, experience, sales\n"
     ]
    }
   ],
   "source": [
    "for i in range(0,2):\n",
    "    topN = np.argsort(nb_classifier2.feature_log_prob_[i])[-10:]\n",
    "    print Y.value_counts().index[i] + \" top 10:\"\n",
    "    print \", \".join(vocabulary[topN])\n",
    "    "
   ]
  },
  {
   "cell_type": "markdown",
   "metadata": {},
   "source": [
    "See above for the top 10 features associated with \"low\" and \"high\" salary ranges.  \n",
    "\n",
    "There is some overlap between words that are very probable for both low and high salary descriptions.  Some examples of these words are \"client,\" \"manager,\" \"team,\" and \"experience.\"  These words may not be very helpful in classifying high versus low, because they are very likely to occur in either type of job description.  \"Manager\" could be referring to the position, or the person a lower-salaried employee would report to.  Both options make sense to include in a job description, which explains why the feature would be highly likely in either category."
   ]
  },
  {
   "cell_type": "markdown",
   "metadata": {},
   "source": [
    "### B4.  Use the job descriptions without lemmatization and stopword removal. Add parts-of-speech bigrams to the bag-of-words, and run a new classification model. Does the accuracy increase over the results in B1? "
   ]
  },
  {
   "cell_type": "code",
   "execution_count": 57,
   "metadata": {
    "collapsed": false
   },
   "outputs": [
    {
     "data": {
      "text/plain": [
       "u'(<(NN[^\\\\{\\\\}<>]*)>)(<(VB[^\\\\{\\\\}<>]*)>)|(<(JJ)>)(<(NN)>)|(<(NNP)>)(<(VB)>)|(<(NNP)>)(<(VBP)>)|(<(NN)>)(<(VB)>)|(<(VB)>)(<(NNP)>)|(<(VB)>)(<(NN)>)'"
      ]
     },
     "execution_count": 57,
     "metadata": {},
     "output_type": "execute_result"
    }
   ],
   "source": [
    "from nltk.chunk.regexp import *\n",
    "tag_pattern = \"<NN.*><VB.*>|<JJ><NN>|<NNP><VB>|<NNP><VBP>|<NN><VB>|<VB><NNP>|<VB><NN>\"\n",
    "regexp_pattern = tag_pattern2re_pattern(tag_pattern)\n",
    "regexp_pattern"
   ]
  },
  {
   "cell_type": "code",
   "execution_count": 58,
   "metadata": {
    "collapsed": true
   },
   "outputs": [],
   "source": [
    "def tokenize1(text):\n",
    "    tokens_unigrams = nltk.word_tokenize(text)\n",
    "    bigram_tokenizer = nltk.tokenize.regexp.RegexpTokenizer(regexp_pattern)\n",
    "    tokens_bigrams = bigram_tokenizer.tokenize(text)\n",
    "    tokens= tokens_unigrams+tokens_bigrams\n",
    "    return tokens"
   ]
  },
  {
   "cell_type": "code",
   "execution_count": 59,
   "metadata": {
    "collapsed": true
   },
   "outputs": [],
   "source": [
    "tfidf_bigram = TfidfVectorizer(tokenizer=tokenize1)\n",
    "X_train_bigram = tfidf_bigram.fit_transform(X_train)\n",
    "X_test_bigram = tfidf_bigram.transform(X_test)"
   ]
  },
  {
   "cell_type": "code",
   "execution_count": 60,
   "metadata": {
    "collapsed": true
   },
   "outputs": [],
   "source": [
    "classifier_bigram = MultinomialNB().fit(X_train_bigram, y_train)\n",
    "bigram_pred=classifier_bigram.predict(X_test_bigram)"
   ]
  },
  {
   "cell_type": "code",
   "execution_count": 61,
   "metadata": {
    "collapsed": false
   },
   "outputs": [
    {
     "name": "stdout",
     "output_type": "stream",
     "text": [
      "[[  598  7905]\n",
      " [   84 24413]]\n",
      "0.757909090909\n"
     ]
    }
   ],
   "source": [
    "print metrics.confusion_matrix(y_test, bigram_pred)\n",
    "print metrics.accuracy_score(y_test, bigram_pred)"
   ]
  },
  {
   "cell_type": "markdown",
   "metadata": {},
   "source": [
    "The accuracy of this model is approximately 2% less than the model from B1.  After adding bigrams as additional features, it is possible that the model is now overfitting the data.  To avoid this problem, we would need to identify only the most significant part-of-speech bigrams.  "
   ]
  }
 ],
 "metadata": {
  "anaconda-cloud": {},
  "kernelspec": {
   "display_name": "Python 2",
   "language": "python",
   "name": "python2"
  },
  "language_info": {
   "codemirror_mode": {
    "name": "ipython",
    "version": 2
   },
   "file_extension": ".py",
   "mimetype": "text/x-python",
   "name": "python",
   "nbconvert_exporter": "python",
   "pygments_lexer": "ipython2",
   "version": "2.7.12"
  }
 },
 "nbformat": 4,
 "nbformat_minor": 0
}
